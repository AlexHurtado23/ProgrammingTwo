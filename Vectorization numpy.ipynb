{
 "cells": [
  {
   "cell_type": "markdown",
   "metadata": {},
   "source": [
    "# Numpy Vectorization \n",
    "\n",
    "- **Student: Emmanuel Alejadro Hurtado Alejandre**\n",
    "- **Group: Data 2A**"
   ]
  },
  {
   "cell_type": "code",
   "execution_count": 18,
   "metadata": {},
   "outputs": [
    {
     "name": "stdout",
     "output_type": "stream",
     "text": [
      "Fist array:  [ 5  9  7  2  3 11 12  8]\n",
      "Second array:  [ 3  5 11  3  4  8 10  8]\n",
      "\n",
      "\n",
      "Result for For-loop: \n",
      "5\n",
      "9\n",
      "11\n",
      "3\n",
      "4\n",
      "11\n",
      "12\n",
      "8\n",
      "Time taken by For-loop 4995.822906494141µs \n",
      "\n",
      "\n",
      "Result for vectorization:  [ 5  9 11  3  4 11 12  8]\n",
      "Time taken by Numpy's Vectorized Method\n",
      "15.5 µs ± 995 ns per loop (mean ± std. dev. of 7 runs, 100000 loops each)\n",
      "\n",
      "\n"
     ]
    }
   ],
   "source": [
    "'''Example 1:\n",
    "Write a program that compares the values of 2 numpy arrays and return the bigger values of both arrays.'''\n",
    "\n",
    "import numpy as np\n",
    "import time\n",
    "\n",
    "# Method that return the bigger number\n",
    "def big(a, b):\n",
    "    if a >= b:\n",
    "        return a\n",
    "    else:\n",
    "        return b\n",
    "    \n",
    "# Defining arrays    \n",
    "a1 = np.array([5, 9, 7, 2, 3, 11, 12, 8])\n",
    "a2 = np.array([3, 5, 11, 3, 4, 8, 10, 8])\n",
    "\n",
    "print(\"Fist array: \",a1)\n",
    "print(\"Second array: \",a2)\n",
    "print(\"\\n\")\n",
    "\n",
    "# Foor-loop that compares the numbers in both arrays and returns the bigger ones \n",
    "print(\"Result for For-loop: \")\n",
    "t1 = time.time()\n",
    "for i in range(0,8):\n",
    "    print(big(a1[i],a2[i])) \n",
    "t2 = time.time()\n",
    "print(\"Time taken by For-loop {}µs \".format(1000000.00*(t2-t1)))\n",
    "print(\"\\n\")\n",
    "\n",
    "# Numpy's Vectorized Method\n",
    "big_vectorized = np.vectorize(big, otypes=[int])\n",
    "print(\"Result for vectorization: \",big_vectorized(a1, a2))\n",
    "print(\"Time taken by Numpy's Vectorized Method\")\n",
    "%timeit list(big_vectorized(a1, a2))\n",
    "print(\"\\n\")"
   ]
  },
  {
   "cell_type": "code",
   "execution_count": 20,
   "metadata": {},
   "outputs": [
    {
     "name": "stdout",
     "output_type": "stream",
     "text": [
      "Fist array:  [0 1 2 3 4 5 6 7 8 9]\n",
      "\n",
      "\n",
      "Result fo For-loop: \n",
      "1\n",
      "1\n",
      "2\n",
      "6\n",
      "24\n",
      "120\n",
      "720\n",
      "5040\n",
      "40320\n",
      "Time taken by For-loop 994.2054748535156µs \n",
      "\n",
      "\n",
      "Result for vectorization:  [     1      1      2      6     24    120    720   5040  40320 362880]\n",
      "Time taken by Numpy's Vectorized Method\n",
      "21.8 µs ± 1.35 µs per loop (mean ± std. dev. of 7 runs, 10000 loops each)\n",
      "\n",
      "\n"
     ]
    }
   ],
   "source": [
    "'''Example 2:\n",
    "Write a program that reads a numpy arrays and returns the factorial of each element of the array.'''\n",
    "\n",
    "import numpy as np\n",
    "import time\n",
    "\n",
    "# Recursive Factorial Function \n",
    "def factorial(n):\n",
    "    if n==0:\n",
    "        return 1\n",
    "    else:\n",
    "        return n * factorial(n-1)\n",
    "\n",
    "# Defining array\n",
    "n1 = np.array([0, 1, 2, 3, 4, 5, 6, 7, 8, 9])\n",
    "print(\"Fist array: \",n1)\n",
    "print(\"\\n\")\n",
    "\n",
    "# For-loop that calculates the factorial of each element in the array\n",
    "print(\"Result fo For-loop: \")\n",
    "t1 = time.time()\n",
    "for i in range(0,9):\n",
    "    print(factorial(n1[i]))\n",
    "t2 = time.time()\n",
    "print(\"Time taken by For-loop {}µs \".format(1000000.00*(t2-t1)))\n",
    "print(\"\\n\")\n",
    "\n",
    "# Numpy's Vectorized Method\n",
    "factorial_vectorized = np.vectorize(factorial, otypes=[int])\n",
    "print(\"Result for vectorization: \",factorial_vectorized(n1))\n",
    "print(\"Time taken by Numpy's Vectorized Method\")\n",
    "%timeit list(factorial_vectorized(n1))\n",
    "print(\"\\n\")"
   ]
  },
  {
   "cell_type": "markdown",
   "metadata": {},
   "source": [
    "# References\n",
    "\n",
    "- John Ortiz Ordoñez (2019) NumPy: https://www.youtube.com/watch?v=8jjSWkeTeL0\n",
    "- Tirthajyoti Sarkar (2017) Conditional loops into Numpy vectors: https://towardsdatascience.com/data-science-with-python-turn-your-conditional-loops-to-numpy-vectors-9484ff9c622e"
   ]
  },
  {
   "cell_type": "code",
   "execution_count": null,
   "metadata": {},
   "outputs": [],
   "source": []
  }
 ],
 "metadata": {
  "kernelspec": {
   "display_name": "Python 3",
   "language": "python",
   "name": "python3"
  },
  "language_info": {
   "codemirror_mode": {
    "name": "ipython",
    "version": 3
   },
   "file_extension": ".py",
   "mimetype": "text/x-python",
   "name": "python",
   "nbconvert_exporter": "python",
   "pygments_lexer": "ipython3",
   "version": "3.7.3"
  }
 },
 "nbformat": 4,
 "nbformat_minor": 2
}
