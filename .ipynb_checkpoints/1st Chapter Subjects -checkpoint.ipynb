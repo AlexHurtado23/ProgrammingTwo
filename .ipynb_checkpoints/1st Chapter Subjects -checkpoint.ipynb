{
 "cells": [
  {
   "cell_type": "markdown",
   "metadata": {},
   "source": [
    "# 1st Chapter Subjects\n",
    "\n",
    "### Team:\n",
    "\n",
    "* Emmanuel Alejandro Hurtado Alejandre    [https://github.com/AlexHurtado23/ProgrammingTwo]\n",
    "\n",
    "* Pedro Alejandro Uicab Díaz              [https://github.com/PedroAlejandroUicabDiaz/UNIT1_DATOS_2A.git] \n",
    "\n",
    "\n",
    "## Classification of programming paradigms\n",
    "\n",
    "### Concept of programming paradigm\n",
    "\n",
    "blablaba\n",
    "\n",
    "## Data Representations and Operators\n",
    "\n",
    "## Version control\n"
   ]
  },
  {
   "cell_type": "markdown",
   "metadata": {},
   "source": []
  },
  {
   "cell_type": "code",
   "execution_count": null,
   "metadata": {},
   "outputs": [],
   "source": []
  },
  {
   "cell_type": "code",
   "execution_count": null,
   "metadata": {},
   "outputs": [],
   "source": []
  }
 ],
 "metadata": {
  "kernelspec": {
   "display_name": "Python 3",
   "language": "python",
   "name": "python3"
  },
  "language_info": {
   "codemirror_mode": {
    "name": "ipython",
    "version": 3
   },
   "file_extension": ".py",
   "mimetype": "text/x-python",
   "name": "python",
   "nbconvert_exporter": "python",
   "pygments_lexer": "ipython3",
   "version": "3.7.3"
  }
 },
 "nbformat": 4,
 "nbformat_minor": 2
}
