{
 "cells": [
  {
   "cell_type": "markdown",
   "metadata": {},
   "source": [
    "# List C Programming\n",
    "\n",
    "## Headers 1\n",
    "\n",
    "- **#include** It includes libraries to code and to be able to work with certain functions.\n",
    "- **#define** It defines a macro.\n",
    "- **INT_MAX** It defines the maximum value for an int.\n",
    "- **int main(){}** It is the main function where the principal code is written. \n",
    "- **int main(int argc, char argv[]){}** The same as above but working on the terminal computer.\n",
    "\n",
    "\n",
    "## Other reserved words 7\n",
    "\n",
    "- **break** The break statement ends the loop immediately when it is encountered.\n",
    "- **continue** The continue statement skips the current iteration of the loop and continues with the next iteration.\n",
    "- **return()** It returns a value outside the function. \n",
    "\n",
    "\n",
    "## Files  14\n",
    "- **open()** It opens a file. \n",
    "- **close()** It closes a file. \n",
    "- **with open()** as () It opens a file and it closes when you already finished, automatically. \n",
    "- **.read()** It reads a file's content\n",
    "- **.write()** It writes somethin within a file.\n",
    "- **.readline()** It reads a line within a file.\n",
    "- **.readlines()** It reads lines within a file.\n",
    "- **.lower()** It converts all uppercase characters in a string into lowercase characters and returns it.\n",
    "- **.replace**() It replaces a specified phrase with another specified phrase.\n",
    "\n",
    "## List comprehension 1\n",
    "- **lambda**: It is used for creating small, one-time, anonymous function objects. \n",
    "- **map**: Functions expect a function object and any number of iterables, such as list, dictionary, etc.\n",
    "- **filter**: It Returns a boolean value and is called for each element of the iterable.\n",
    "\n",
    "## Other Reserved Words\n",
    "- **#** Single line comment.\n",
    "- **''' '''** Multiple line comment.\n",
    "- **in** It checks for existence of any item in a list.\n",
    "- **is** It verify if two variables have the same value. \n",
    "- **as** It names a file with a particular name as you want. \n",
    "- **del** Remove arbitrary elements from a list.\n",
    "- **yield** It suspends function’s execution and sends a value back to the caller, but retains enough state to enable function to   resume where it is left off.\n",
    "- class It is used to create objects.\n",
    "- **def**  It function used to create objects.\n",
    "- **return** It returns a numerical or boolean value.\n"
   ]
  },
  {
   "cell_type": "markdown",
   "metadata": {},
   "source": [
    "https://www.programiz.com/c-programming/c-break-continue-statement\n",
    "https://learnxinyminutes.com/docs/python/\n",
    "https://www.programiz.com/python-programming/methods/string/lower"
   ]
  }
 ],
 "metadata": {
  "kernelspec": {
   "display_name": "Python 3",
   "language": "python",
   "name": "python3"
  },
  "language_info": {
   "codemirror_mode": {
    "name": "ipython",
    "version": 3
   },
   "file_extension": ".py",
   "mimetype": "text/x-python",
   "name": "python",
   "nbconvert_exporter": "python",
   "pygments_lexer": "ipython3",
   "version": "3.7.3"
  }
 },
 "nbformat": 4,
 "nbformat_minor": 2
}
