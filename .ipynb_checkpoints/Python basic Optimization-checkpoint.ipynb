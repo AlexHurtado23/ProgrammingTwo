{
 "cells": [
  {
   "cell_type": "code",
   "execution_count": null,
   "metadata": {},
   "outputs": [],
   "source": [
    "\n"
   ]
  },
  {
   "cell_type": "code",
   "execution_count": 6,
   "metadata": {},
   "outputs": [
    {
     "name": "stdout",
     "output_type": "stream",
     "text": [
      "bmi subject1 = 30\n",
      "bmi subject2 = 29\n",
      "bmi subject3 = 29\n",
      "bmi subject4 = 24\n",
      "bmi subject5 = 28\n"
     ]
    }
   ],
   "source": [
    "# Initial Code Class Example\n",
    "\n",
    "# Subject data = [weight_kg, height_m]\n",
    "subject1 = [80, 1.62]\n",
    "subject2 = [69, 1.53]\n",
    "subject3 = [80, 1.66]\n",
    "subject4 = [80, 1.79]\n",
    "subject5 = [72, 1.60]\n",
    "\n",
    "bmi_subject1 = int(subject1[0] / subject1[1]**2)\n",
    "print(\"bmi {} = {}\".format('subject1', bmi_subject1))\n",
    "bmi_subject2 = int(subject2[0] / subject2[1]**2)\n",
    "print(\"bmi {} = {}\".format('subject2', bmi_subject2))\n",
    "bmi_subject3 = int(subject3[0] / subject3[1]**2)\n",
    "print(\"bmi {} = {}\".format('subject3', bmi_subject3))\n",
    "bmi_subject4 = int(subject4[0] / subject4[1]**2)\n",
    "print(\"bmi {} = {}\".format('subject4', bmi_subject4))\n",
    "bmi_subject5 = int(subject5[0] / subject5[1]**2)\n",
    "print(\"bmi {} = {}\".format('subject5', bmi_subject5))"
   ]
  },
  {
   "cell_type": "code",
   "execution_count": 5,
   "metadata": {},
   "outputs": [
    {
     "name": "stdout",
     "output_type": "stream",
     "text": [
      "bmi subject1 = 30\n",
      "bmi subject2 = 29\n",
      "bmi subject3 = 29\n",
      "bmi subject4 = 24\n",
      "bmi subject5 = 28\n"
     ]
    }
   ],
   "source": [
    "# Optimize code Class Example\n",
    "\n",
    "# Function that calculates the bmi taking weight, height and sub_num\n",
    "def bmi_calc(sub_num, weight_kg, height_m):\n",
    "    \"\"\"Calculate BMI from weight in kg and height in meters\"\"\"\n",
    "    bmi = int(weight_kg / height_m**2)\n",
    "    subject = 'subject' + str(sub_num)\n",
    "    print(\"bmi {} = {}\".format(subject, bmi))\n",
    "\n",
    "# In an array put all the subjects in this way: Subject data = [weight_kg, height_m]\n",
    "subjects =[[1, 80, 1.62], # subject1\n",
    "           [2, 69, 1.53], # subject2\n",
    "           [3, 80, 1.66], # subject3\n",
    "           [4, 80, 1.79], # subject4\n",
    "           [5, 72, 1.60]] # subject5\n",
    "\n",
    "# For loop that prints the data\n",
    "for sub in subjects:\n",
    "    bmi_calc(sub[0], sub[1], sub[2])"
   ]
  },
  {
   "cell_type": "code",
   "execution_count": 7,
   "metadata": {},
   "outputs": [
    {
     "name": "stdout",
     "output_type": "stream",
     "text": [
      "Give me a number: 28\n",
      "\n",
      "\n",
      "its divisors are: \n",
      "1\n",
      "2\n",
      "4\n",
      "7\n",
      "14\n",
      "\n",
      "\n",
      "This number is perfect: 28\n"
     ]
    }
   ],
   "source": [
    "# Example 01 Perfect Number\n",
    "\n",
    "# Initial Code\n",
    "\n",
    "num=int(input(\"Give me a number: \"))\n",
    "i=0\n",
    "suma=0\n",
    "print(\"\\n\")\n",
    "\n",
    "print(\"its divisors are: \")\n",
    "for i in range(1,num):\n",
    "    if num%i==0:\n",
    "        suma+=i\n",
    "        print(i)\n",
    "print(\"\\n\")\n",
    "        \n",
    "if suma==num:\n",
    "    print(\"This number is perfect:\",num)\n",
    "else:\n",
    "    print(\"This number is not perfect:\",num)"
   ]
  },
  {
   "cell_type": "code",
   "execution_count": 9,
   "metadata": {},
   "outputs": [
    {
     "name": "stdout",
     "output_type": "stream",
     "text": [
      "Give me a number: 28\n",
      "\n",
      "\n",
      "its divisors are: \n",
      "1\n",
      "2\n",
      "4\n",
      "7\n",
      "14\n",
      "\n",
      "\n",
      "This number is perfect: 28\n"
     ]
    }
   ],
   "source": [
    "# Example 01 Perfect Number\n",
    "\n",
    "# Optimize code\n",
    "\n",
    "def perfect(num):\n",
    "    i=0\n",
    "    suma=0\n",
    "    print(\"its divisors are: \")\n",
    "    for i in range(1,num):\n",
    "        if num%i==0:\n",
    "            suma+=i\n",
    "            print(i)\n",
    "    print(\"\\n\")\n",
    "        \n",
    "    if suma==num:\n",
    "        print(\"This number is perfect:\",num)\n",
    "    else:\n",
    "        print(\"This number is not perfect:\",num)\n",
    "\n",
    "num=int(input(\"Give me a number: \"))\n",
    "print(\"\\n\")        \n",
    "perfect(num)"
   ]
  },
  {
   "cell_type": "code",
   "execution_count": 3,
   "metadata": {},
   "outputs": [
    {
     "name": "stdout",
     "output_type": "stream",
     "text": [
      "Enter your integer grade in programming: 8\n",
      "You are accredited\n"
     ]
    }
   ],
   "source": [
    "# Example 02 Program that tells you if you are accredited or not.  \n",
    "\n",
    "#Initial Code\n",
    "\n",
    "num=int(input(\"Enter your integer grade in programming: \"))\n",
    "\n",
    "if(num == 0):\n",
    "    print(\"You are not accredited\")\n",
    "    \n",
    "if(num == 1):\n",
    "    print(\"You are not accredited\")\n",
    "    \n",
    "if(num == 2):\n",
    "    print(\"You are not accredited\")\n",
    "    \n",
    "if(num == 3):\n",
    "    print(\"You are not accredited\")\n",
    "    \n",
    "if(num == 4):\n",
    "    print(\"You are not accredited\")\n",
    "    \n",
    "if(num == 5):\n",
    "    print(\"You are not accredited\")\n",
    "    \n",
    "if(num == 6):\n",
    "    print(\"You are not accredited\")\n",
    "    \n",
    "if(num == 7):\n",
    "    print(\"You are accredited\")\n",
    "\n",
    "if(num == 8):\n",
    "    print(\"You are accredited\")\n",
    "    \n",
    "if(num == 9):\n",
    "    print(\"You are accredited\")\n",
    "    \n",
    "if(num == 10):\n",
    "    print(\"You are accredited\")"
   ]
  },
  {
   "cell_type": "code",
   "execution_count": 4,
   "metadata": {},
   "outputs": [
    {
     "name": "stdout",
     "output_type": "stream",
     "text": [
      "Enter your integer grade in programming: 8\n",
      "You are accredited\n"
     ]
    }
   ],
   "source": [
    "# Example 02 Program that tells you if you are accredited or not.  \n",
    "\n",
    "# Optimize code\n",
    "\n",
    "num=int(input(\"Enter your integer grade in programming: \"))\n",
    "\n",
    "if(num >= 7):\n",
    "    print(\"You are accredited\")\n",
    "else:\n",
    "    print(\"You are not accredited\")"
   ]
  },
  {
   "cell_type": "code",
   "execution_count": null,
   "metadata": {},
   "outputs": [],
   "source": []
  }
 ],
 "metadata": {
  "kernelspec": {
   "display_name": "Python 3",
   "language": "python",
   "name": "python3"
  },
  "language_info": {
   "codemirror_mode": {
    "name": "ipython",
    "version": 3
   },
   "file_extension": ".py",
   "mimetype": "text/x-python",
   "name": "python",
   "nbconvert_exporter": "python",
   "pygments_lexer": "ipython3",
   "version": "3.7.3"
  }
 },
 "nbformat": 4,
 "nbformat_minor": 2
}
