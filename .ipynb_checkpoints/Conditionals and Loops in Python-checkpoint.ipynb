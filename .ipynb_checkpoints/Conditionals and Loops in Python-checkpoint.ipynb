{
 "cells": [
  {
   "cell_type": "code",
   "execution_count": 1,
   "metadata": {},
   "outputs": [],
   "source": [
    "# Student: Emmanuel Alejandro Hurtado Alejandre\n",
    "# Group: Data 2A"
   ]
  },
  {
   "cell_type": "code",
   "execution_count": 4,
   "metadata": {},
   "outputs": [
    {
     "name": "stdout",
     "output_type": "stream",
     "text": [
      "Start point: 1\n",
      "End point + 1: 21\n",
      "\n",
      "\n",
      "1\n",
      "2\n",
      "Fizz\n",
      "4\n",
      "Buzz\n",
      "Fizz\n",
      "7\n",
      "8\n",
      "Fizz\n",
      "Buzz\n",
      "11\n",
      "Fizz\n",
      "13\n",
      "14\n",
      "FizzBuzz\n",
      "16\n",
      "17\n",
      "Fizz\n",
      "19\n",
      "Buzz\n"
     ]
    }
   ],
   "source": [
    "#FizzBuzz Test\n",
    "\n",
    "start=int(input(\"Start point: \"))\n",
    "end=int(input(\"End point + 1: \"))\n",
    "i=0\n",
    "print(\"\\n\")\n",
    "\n",
    "for i in range(start,end):\n",
    "    if i % 3 == 0 and i % 5 == 0:\n",
    "        print(\"FizzBuzz\")\n",
    "    elif i % 3 == 0: \n",
    "        print(\"Fizz\")\n",
    "    elif i % 5 == 0:\n",
    "        print(\"Buzz\")\n",
    "    else:\n",
    "        print(i)"
   ]
  },
  {
   "cell_type": "code",
   "execution_count": 5,
   "metadata": {},
   "outputs": [
    {
     "name": "stdout",
     "output_type": "stream",
     "text": [
      "Start point: 2000\n",
      "End point + 1: 2021\n",
      "\n",
      "\n",
      "This year is Leap-Year: 2000\n",
      "2001\n",
      "2002\n",
      "2003\n",
      "This year is Leap-Year: 2004\n",
      "2005\n",
      "2006\n",
      "2007\n",
      "This year is Leap-Year: 2008\n",
      "2009\n",
      "2010\n",
      "2011\n",
      "This year is Leap-Year: 2012\n",
      "2013\n",
      "2014\n",
      "2015\n",
      "This year is Leap-Year: 2016\n",
      "2017\n",
      "2018\n",
      "2019\n",
      "This year is Leap-Year: 2020\n"
     ]
    }
   ],
   "source": [
    "#Leap-Year\n",
    "\n",
    "start=int(input(\"Start point: \"))\n",
    "end=int(input(\"End point + 1: \"))\n",
    "i=0\n",
    "print(\"\\n\")\n",
    "\n",
    "for i in range(start,end):\n",
    "    if i%4==0 and i%100!=0 or i%400==0:\n",
    "        print(\"This year is Leap-Year:\",i)\n",
    "    else:\n",
    "        print(i)"
   ]
  },
  {
   "cell_type": "code",
   "execution_count": 6,
   "metadata": {},
   "outputs": [
    {
     "name": "stdout",
     "output_type": "stream",
     "text": [
      "Give me a number: 28\n",
      "\n",
      "\n",
      "its divisors are: \n",
      "1\n",
      "2\n",
      "4\n",
      "7\n",
      "14\n",
      "\n",
      "\n",
      "This number is perfect: 28\n"
     ]
    }
   ],
   "source": [
    "#Perfect Number\n",
    "\n",
    "num=int(input(\"Give me a number: \"))\n",
    "i=0\n",
    "suma=0\n",
    "print(\"\\n\")\n",
    "\n",
    "print(\"its divisors are: \")\n",
    "for i in range(1,num):\n",
    "    if num%i==0:\n",
    "        suma+=i\n",
    "        print(i)\n",
    "print(\"\\n\")\n",
    "        \n",
    "if suma==num:\n",
    "    print(\"This number is perfect:\",num)\n",
    "else:\n",
    "    print(\"This number is not perfect:\",num)"
   ]
  },
  {
   "cell_type": "code",
   "execution_count": 7,
   "metadata": {},
   "outputs": [
    {
     "name": "stdout",
     "output_type": "stream",
     "text": [
      "Type x for exit\n",
      "Give me the number of lines: 5\n",
      "\n",
      "\n",
      "1 \n",
      "2 3 \n",
      "4 5 6 \n",
      "7 8 9 10 \n",
      "11 12 13 14 15 \n"
     ]
    }
   ],
   "source": [
    "#Floyd's Triangle\n",
    "\n",
    "print(\"Type x for exit\")\n",
    "lines=input(\"Give me the number of lines: \")\n",
    "print(\"\\n\")\n",
    "\n",
    "if lines == 'x':\n",
    "    exit()\n",
    "    \n",
    "else:\n",
    "    Floyd=int(lines)\n",
    "    w=1\n",
    "    i=0\n",
    "    j=0\n",
    "    for i in range(1,Floyd+1):\n",
    "        for j in range(1,i+1):\n",
    "            print(w,end=' ')\n",
    "            w=w+1\n",
    "        print()"
   ]
  },
  {
   "cell_type": "code",
   "execution_count": null,
   "metadata": {},
   "outputs": [],
   "source": []
  }
 ],
 "metadata": {
  "kernelspec": {
   "display_name": "Python 3",
   "language": "python",
   "name": "python3"
  },
  "language_info": {
   "codemirror_mode": {
    "name": "ipython",
    "version": 3
   },
   "file_extension": ".py",
   "mimetype": "text/x-python",
   "name": "python",
   "nbconvert_exporter": "python",
   "pygments_lexer": "ipython3",
   "version": "3.7.3"
  }
 },
 "nbformat": 4,
 "nbformat_minor": 2
}
