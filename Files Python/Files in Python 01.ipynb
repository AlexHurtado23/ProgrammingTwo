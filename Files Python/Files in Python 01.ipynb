{
 "cells": [
  {
   "cell_type": "code",
   "execution_count": 17,
   "metadata": {},
   "outputs": [
    {
     "name": "stdout",
     "output_type": "stream",
     "text": [
      "Give me a number between 1 and 10: 5\n"
     ]
    }
   ],
   "source": [
    "# Write a program that asks you a number between 1 and 10, and crete a file with its multiplication table \n",
    "# Emmanuel Alejandro Hurtado Alejandre Data 2A\n",
    "\n",
    "num = int (input('Give me a number between 1 and 10: ')) #Asking for n value\n",
    "file_name = 'table-' + str(num) + '.txt' #Creating a file named table-n\n",
    "f = open(file_name, 'w') #Opening file for writing\n",
    "\n",
    "#This foor loop fills the file with the multiplication table of n \n",
    "for i in range(1,11):\n",
    "    f.write(str(num) + ' x ' + str(i) + ' = ' + str(num * i) + '\\n')\n",
    "    \n",
    "f.close()#Closing table-n.txt\n",
    "\n",
    "#Source: http://aprendeconalf.es/python/ejercicios/ficheros.html"
   ]
  },
  {
   "cell_type": "code",
   "execution_count": 18,
   "metadata": {},
   "outputs": [
    {
     "name": "stdout",
     "output_type": "stream",
     "text": [
      "Give me a number between 1 and 10: 5\n",
      "5 x 1 = 5\n",
      "5 x 2 = 10\n",
      "5 x 3 = 15\n",
      "5 x 4 = 20\n",
      "5 x 5 = 25\n",
      "5 x 6 = 30\n",
      "5 x 7 = 35\n",
      "5 x 8 = 40\n",
      "5 x 9 = 45\n",
      "5 x 10 = 50\n",
      "\n"
     ]
    }
   ],
   "source": [
    "# Write a program that detects if a file of the previous program was created \n",
    "# Emmanuel Alejandro Hurtado Alejandre Data 2A\n",
    "\n",
    "num = int(input('Give me a number between 1 and 10: ')) #Asking for n value\n",
    "file_name = 'table-' + str(num) + '.txt' #Creating a file named table-n to compare\n",
    "\n",
    "try:\n",
    "    f = open(file_name,'r') # Try to open the file for reading it\n",
    "    \n",
    "except FileNotFoundError:#If the file does not exist\n",
    "    print('Does not exist the file with the multiplication table of ', num)\n",
    "else:\n",
    "    print(f.read())#Printing the content of the file\n",
    "    f.close()#Closing table-n.txt if it exist\n",
    "    \n",
    "#Source: http://aprendeconalf.es/python/ejercicios/ficheros.html"
   ]
  },
  {
   "cell_type": "code",
   "execution_count": 20,
   "metadata": {},
   "outputs": [
    {
     "name": "stdout",
     "output_type": "stream",
     "text": [
      "Give me an integer from 1 to 10: 5\n",
      "Give me another integer from 1 to 10: 8\n",
      "5 x 8 = 40\n",
      "\n"
     ]
    }
   ],
   "source": [
    "# Write a program that gives you a specific line of an table-n.txt file, using 2 variables\n",
    "# Emmanuel Alejandro Hurtado Alejandre Data 2A\n",
    "\n",
    "num = int(input('Give me an integer from 1 to 10: ')) #Asking for the value of n\n",
    "line = int(input('Give me another integer from 1 to 10: ')) #Asking for a value of m\n",
    "file_name = 'table-' + str(num) + '.txt' #Creating a file named table-n to compare\n",
    "\n",
    "try: \n",
    "    f = open(file_name, 'r') #Opening file to read it, if it exist\n",
    "    \n",
    "except FileNotFoundError: #If the file does not exist\n",
    "    print('Does not exist the file with the multiplication table of ', num)\n",
    "    \n",
    "else:\n",
    "    lines = f.readlines()#Variable lines that reads the lines of the file\n",
    "    print(lines[line - 1]) #Printing the specific given line\n",
    "    \n",
    "f.close() #Closing table-n.txt\n",
    "\n",
    "#Source: http://aprendeconalf.es/python/ejercicios/ficheros.html"
   ]
  },
  {
   "cell_type": "code",
   "execution_count": null,
   "metadata": {},
   "outputs": [],
   "source": []
  }
 ],
 "metadata": {
  "kernelspec": {
   "display_name": "Python 3",
   "language": "python",
   "name": "python3"
  },
  "language_info": {
   "codemirror_mode": {
    "name": "ipython",
    "version": 3
   },
   "file_extension": ".py",
   "mimetype": "text/x-python",
   "name": "python",
   "nbconvert_exporter": "python",
   "pygments_lexer": "ipython3",
   "version": "3.7.3"
  }
 },
 "nbformat": 4,
 "nbformat_minor": 2
}
